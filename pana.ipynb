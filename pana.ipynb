{
 "cells": [
  {
   "cell_type": "markdown",
   "metadata": {},
   "source": [
    "# Geografisk analyse: punktmønstre\n",
    "___\n",
    "\n",
    "\n",
    "_*Tilrettelagt for python-introduksjon ved IVB 13.03.2019*_\n",
    "\n",
    "___\n",
    "\n",
    "Ønsker å finne ut om et punktmønster er av typen\n",
    "\n",
    "- CSR: Complete Spatial Randomness (punktene forekommer i et helt tilfeldig mønster), eller\n",
    "- Cluster (gruppert) - noe som kan gi grunnlag for videre undersøkelser\n",
    "\n",
    "Analyseres/avgjøres ved visuell inspeksjon av grafer som viser avstand til nærmeste nabopunkt. Grafene lages ved hjelp av funksjonene G og F.\n",
    "\n",
    "\n",
    "### G-funksjonen\n",
    "\n",
    "Funksjonen angir hvor stor andel av punktene i datasettet $S$ som har nærmeste nabo-avstand mindre enn avstanden $d$. Den uttrykker avstander internt i datasettet vi vil undersøke.\n",
    "\n",
    "\n",
    "$$ G(d) =  \\frac{no. [d_{min}({\\textbf s}_i) < d]}{n} $$\n",
    "\n",
    "\n",
    "\n",
    "### F-funksjonen\n",
    "\n",
    "Funksjonen angir hvor stor andel av punktene i datasettet $P$, bestående av tilfeldig genererte punkt, som har en minste-avstand til et punkt i datasettet $S$ mindre enn avstanden $d$. Den utrykker avstander fra et tilfeldig valgt punkt i planet til nærmeste punkt i datasettet vi vil undersøke.\n",
    "\n",
    "\n",
    "$$ F(d) =  \\frac{no. [d_{min}({\\textbf p}_i, S) < d]}{m} $$\n",
    "\n",
    "\n",
    "\n",
    "### Forventede verdier av G-funksjon ved CSR\n",
    "\n",
    "$$ E[G(d)] = 1 -e^{-\\lambda\\pi d^2} $$\n",
    "\n",
    "### Forventede verdier av F-funksjon ved CSR\n",
    "\n",
    "$$ E[F(d)] = 1 -e^{-\\lambda\\pi d^2} $$\n",
    "\n",
    "___\n",
    "\n",
    "Den observante leser vil legge merke til at de forventede verdiene av G- og F-funksjonene er like når punktene er fordelt i et CRS-mønster. Med andre ord, så vil kurvene være sammenfallende.\n",
    "\n"
   ]
  },
  {
   "cell_type": "code",
   "execution_count": 1,
   "metadata": {},
   "outputs": [],
   "source": [
    "# Kode er hentet fra:\n",
    "\n",
    "# Pana.py - Calculating G- and F-function values\n",
    "# \n",
    "# made by: sverre.stikbakke@hig.no 26.02.2007\n"
   ]
  },
  {
   "cell_type": "code",
   "execution_count": 2,
   "metadata": {},
   "outputs": [],
   "source": [
    "# Importerer hjelpefunksjoner\n",
    "\n",
    "import math\n",
    "import random\n",
    "import pylab\n"
   ]
  },
  {
   "cell_type": "code",
   "execution_count": 3,
   "metadata": {},
   "outputs": [],
   "source": [
    "# Funksjon for å lage et datasett ved simulering - trekking av tilfeldige tall fra normalfordeling\n",
    "#\n",
    "# n: antall punkt som skal genereres\n",
    "# mu: forventning\n",
    "# sigma: standardavvik\n",
    "#\n",
    "# Returnerer dictionary med punkt-ID, x- og y-verdi\n",
    "\n",
    "def createRandomPoints(n, mu, sigma):\n",
    "    S = {}\n",
    "    for i in range(1, n + 1):\n",
    "        x = random.normalvariate(mu,sigma)\n",
    "        y = random.normalvariate(mu,sigma)\n",
    "        S[i] = x, y\n",
    "    return S\n"
   ]
  },
  {
   "cell_type": "code",
   "execution_count": 4,
   "metadata": {},
   "outputs": [],
   "source": [
    "# Test av enkelt-funksjon\n",
    "\n",
    "n = 20\n",
    "mu = 30\n",
    "sigma = 50\n",
    "\n",
    "S1 = createRandomPoints(n, mu, sigma)\n",
    "\n",
    "# S1\n"
   ]
  },
  {
   "cell_type": "code",
   "execution_count": 5,
   "metadata": {},
   "outputs": [],
   "source": [
    "# Funksjon for å lage et datasett ved simulering - CSR-type (punkter med helt tilfeldig fordeling)\n",
    "#\n",
    "# m: Antall punkt som skal genereres\n",
    "#\n",
    "# Returnerer dictionary med punkt-ID, x- og y-verdi\n",
    "\n",
    "def createCSR(m, xRangeMin, xRangeMax, yRangeMin, yRangeMax):\n",
    "    S = {}  \n",
    "    for i in range(1, m + 1):\n",
    "        x = random.randint(xRangeMin, xRangeMax)\n",
    "        y = random.randint(yRangeMin, yRangeMax)\n",
    "        S[i] = x, y\n",
    "    return S\n"
   ]
  },
  {
   "cell_type": "code",
   "execution_count": 6,
   "metadata": {},
   "outputs": [],
   "source": [
    "# Beregner nærmeste nabo-avstand for alle punkter innbyrdes i datasettet\n",
    "# Brukes for å beregne G-funksjonen\n",
    "# \n",
    "# S: mulig cluster-datasett (dictionary)\n",
    "#\n",
    "# Returnerer dictionary med nærmeste nabo-avstander\n",
    "\n",
    "def NNG(S, infinity):\n",
    "    D = {}\n",
    "    for i in S:\n",
    "        dMin = infinity\n",
    "        for j in S:\n",
    "            if i is not j:\n",
    "                d = euclidianDistance(S[i], S[j])\n",
    "                if d < dMin:\n",
    "                    dMin = d\n",
    "                    D[i] = dMin  \n",
    "    return D\n"
   ]
  },
  {
   "cell_type": "code",
   "execution_count": 7,
   "metadata": {},
   "outputs": [],
   "source": [
    "# Beregner nærmeste nabo-avstand fra CSR-datasett til mulig cluster-datasett\n",
    "# Brukes for å beregne S-funksjonen\n",
    "#\n",
    "# S: mulig cluster-datasett\n",
    "# P: CSR-datasett (dictionary)\n",
    "#\n",
    "# Returnerer dictionary med nærmeste nabo-avstander\n",
    "\n",
    "def NNF(S, P, infinity):\n",
    "    D = {}\n",
    "    for i in P:\n",
    "        dMin = infinity\n",
    "        for j in S:\n",
    "            d = euclidianDistance(P[i],S[j])\n",
    "            if d < dMin:\n",
    "                dMin = d\n",
    "                D[i] = dMin\n",
    "    return D\n"
   ]
  },
  {
   "cell_type": "code",
   "execution_count": 8,
   "metadata": {},
   "outputs": [],
   "source": [
    "# Beregner gjennomsnittlig nærmeste nabo-avstand\n",
    "#\n",
    "# D: Liste (dictionary) med nærmeste nabo-avstander\n",
    "#\n",
    "# Returnerer et desimaltall\n",
    "\n",
    "def meanNN(D):\n",
    "    n = len(D)\n",
    "    SS = 0\n",
    "    for i in D:\n",
    "        SS += D[i]\n",
    "    return SS/n\n"
   ]
  },
  {
   "cell_type": "code",
   "execution_count": 9,
   "metadata": {},
   "outputs": [],
   "source": [
    "# Lager lister med X- og Y-koordinater for plotting (hver akse for seg)\n",
    "# \n",
    "# T: Datasett bestående av punkter med X- og Y-verdier\n",
    "#\n",
    "# Returnerer to lister med henholdsvis X- og Y-verdi\n",
    "\n",
    "def makeXY(T):\n",
    "    X = []\n",
    "    Y = []\n",
    "    for i in T:\n",
    "        X.append(T[i][0])\n",
    "        Y.append(T[i][1])\n",
    "    return X, Y\n"
   ]
  },
  {
   "cell_type": "code",
   "execution_count": 10,
   "metadata": {},
   "outputs": [],
   "source": [
    "# Beregner funksjonsverdier for G- og F-funksjonen\n",
    "# \n",
    "# D: Nærmeste nabo-avstander - beregnet i NNG- og NNF-funksjonene\n",
    "# xRangeMax: Maks-verdi for X-aksen\n",
    "#\n",
    "# Returnerer to lister:\n",
    "#   X med avstandsverdier (d)\n",
    "#   Y med akkumulert andel av alle punktene med nærmeste nabo-avstand < d \n",
    "\n",
    "def cumulativeFrequencyValues(D, xRangeMax):\n",
    "    X = []\n",
    "    Y = []\n",
    "    m = len(D)  \n",
    "        \n",
    "    for x in range(xRangeMax + 1):\n",
    "        n = 0\n",
    "        for i in D:\n",
    "            if D[i] < x:\n",
    "                n += 1\n",
    "\n",
    "        fraction = float(n)/(float(m))\n",
    "\n",
    "        X.append(x)\n",
    "        Y.append(fraction)\n",
    "\n",
    "    return X, Y\n"
   ]
  },
  {
   "cell_type": "code",
   "execution_count": 11,
   "metadata": {},
   "outputs": [],
   "source": [
    "# Lager plott for datasettene i en figur, og graf-plott i en annen figur\n",
    "#\n",
    "# XS: X-verdier for mulig cluster-datasett\n",
    "# YS: Y-verdier for mulig cluster-datasett\n",
    "\n",
    "# XP: X-verdier for CSR-datasett\n",
    "# YP: Y-verdier for CSR-datasett\n",
    "\n",
    "# XG: X-verdier G-funksjon\n",
    "# YG: Y-verdier G-funksjon\n",
    "\n",
    "# XF: X-verdier F-funksjon\n",
    "# YF: Y-verdier F-funksjon\n",
    "\n",
    "def makePlot(XS, YS, XP, YP, XG, YG, XF, YF):\n",
    "    pylab.figure(figsize=(20, 8))\n",
    "\n",
    "    pylab.subplot(1, 2, 1)\n",
    "    pylab.plot(XS, YS, 'o', XP, YP, '+')\n",
    "    pylab.axis([0, 100, 0, 100])\n",
    "    pylab.grid(True)\n",
    "    pylab.xlabel(\"x-coordinate\")\n",
    "    pylab.ylabel(\"y-coordinate\")\n",
    "\n",
    "    pylab.subplot(1, 2, 2)\n",
    "    pylab.step(XG, YG, XF, YF, where ='post', linewidth = 1)\n",
    "    pylab.axis([0, 100, -0.1, 1.1])\n",
    "    pylab.grid(True)\n",
    "    pylab.xlabel(\"Distance (d)\")\n",
    "    pylab.ylabel(\"G(d), F(d)\")  \n",
    "\n",
    "    pylab.show()\n"
   ]
  },
  {
   "cell_type": "code",
   "execution_count": 12,
   "metadata": {},
   "outputs": [],
   "source": [
    "# Beregner euklidisk avstand mellom to punkt (Pythagoras formel)\n",
    "#\n",
    "# p1: tuppel med x- og y-verdi for ett punkt\n",
    "# p2: som p1\n",
    "\n",
    "def euclidianDistance(p1, p2):\n",
    "    return math.sqrt((p2[0] - p1[0])**2 + (p2[1] - p1[1])**2)\n"
   ]
  },
  {
   "cell_type": "code",
   "execution_count": 13,
   "metadata": {},
   "outputs": [],
   "source": [
    "# Hjelpefunksjon for å vise verdier\n",
    "#\n",
    "# meanD: Gjennomsnittlig avstand\n",
    "# description: Forklarende tekst\n",
    "\n",
    "def printMeanDistances(meanD, description):\n",
    "    print(description, \": \", meanD)\n",
    "    print()\n"
   ]
  },
  {
   "cell_type": "code",
   "execution_count": 14,
   "metadata": {},
   "outputs": [],
   "source": [
    "# Hjelpefunksjon for å vise verdier\n",
    "#\n",
    "# D: Nærmeste nabo-avstander - beregnet i NNG- og NNF-funksjonene \n",
    "# description: Forklarende tekst\n",
    "\n",
    "def printSortedDistances(D, description):\n",
    "\n",
    "    Ds = []\n",
    "    for i in D:\n",
    "        Ds.append(D[i])\n",
    "    Ds.sort()\n",
    "\n",
    "    print(description, \": \", Ds)\n",
    "    print()\n"
   ]
  },
  {
   "cell_type": "code",
   "execution_count": 15,
   "metadata": {},
   "outputs": [],
   "source": [
    "# Main-funksjon: \n",
    "# \n",
    "# - setter inn verdier for variabler som brukes ved simulering\n",
    "# - kaller simuleringsfunksjoner\n",
    "# - lager datastrukturene som brukes ved plotting\n",
    "# - kaller plottefunksjon\n",
    "\n",
    "def main():  \n",
    "    n = 20    # Antall punkt i mulig cluster-datasett\n",
    "    m = 500   # Antall punkt i CSR-datasett\n",
    "\n",
    "    # Grenseverdier for CSR-datasett\n",
    "    xRangeMin = 0\n",
    "    xRangeMax = 100\n",
    "    yRangeMin = 0\n",
    "    yRangeMax = 100\n",
    "\n",
    "    mu = 50     # Forventet gjennomsnittlig verdi\n",
    "    sigma = 25  # Standardavvik\n",
    "\n",
    "    infinity = 2**100 # Stort tall\n",
    "\n",
    "    # Trekker tilfeldige tall og lager datasett av disse\n",
    "    S = createRandomPoints(n, mu, sigma)\n",
    "    P = createCSR(m, xRangeMin, xRangeMax, yRangeMin, yRangeMax)\n",
    "\n",
    "    # Beregner nærmeste nabo-avstander\n",
    "    DG = NNG(S, infinity)\n",
    "    DF = NNF(S, P, infinity)\n",
    "\n",
    "    # Beregner gjennomsnittlig nærmeste nabo-avstand\n",
    "    SNN = meanNN(DG)\n",
    "    PNN = meanNN(DF)\n",
    "\n",
    "    # Henter ut X- og Y-verdier fra datasettene\n",
    "    XS, YS = makeXY(S)\n",
    "    XP, YP = makeXY(P)\n",
    "\n",
    "    # Beregner funksjonsverdier for G- og F-funksjon\n",
    "    XG, YG = cumulativeFrequencyValues(DG, xRangeMax)\n",
    "    XF, YF = cumulativeFrequencyValues(DF, xRangeMax)\n",
    "\n",
    "    makePlot(XS, YS, XP, YP, XG, YG, XF, YF)\n",
    "\n",
    "    printMeanDistances(SNN, \"Gjennomsnittlig nærmeste nabo-avstand mellom punkter i datasett S\")\n",
    "    printMeanDistances(PNN, \"Gjennomsnittlig nabo-avstand mellom punkter i datasett P og nærmeste punkt i S\")\n",
    "\n",
    "    #printSortedDistances(DG, \"Alle nærmeste nabo-avsander i datasett S\")\n",
    "    #printSortedDistances(DF, \"Alle nærmeste nabo-avsander i datasett P\")\n"
   ]
  },
  {
   "cell_type": "code",
   "execution_count": 16,
   "metadata": {
    "scrolled": false
   },
   "outputs": [
    {
     "data": {
      "image/png": "[encoded data removed]",
      "text/plain": [
       "<Figure size 1440x576 with 2 Axes>"
      ]
     },
     "metadata": {
      "needs_background": "light"
     },
     "output_type": "display_data"
    },
    {
     "name": "stdout",
     "output_type": "stream",
     "text": [
      "Gjennomsnittlig nærmeste nabo-avstand mellom punkter i datasett S :  16.452548733792966\n",
      "\n",
      "Gjennomsnittlig nabo-avstand mellom punkter i datasett P og nærmeste punkt i S :  11.891583548153914\n",
      "\n"
     ]
    }
   ],
   "source": [
    "# Beregningene starter her ved å kalle opp (utføre) main-funksjonen. \n",
    "# Den vil igjen kalle de enkelte funksjonene som programmet består av.\n",
    "\n",
    "main()"
   ]
  }
 ],
 "metadata": {
  "kernelspec": {
   "display_name": "Python 3",
   "language": "python",
   "name": "python3"
  },
  "language_info": {
   "codemirror_mode": {
    "name": "ipython",
    "version": 3
   },
   "file_extension": ".py",
   "mimetype": "text/x-python",
   "name": "python",
   "nbconvert_exporter": "python",
   "pygments_lexer": "ipython3",
   "version": "3.7.0"
  }
 },
 "nbformat": 4,
 "nbformat_minor": 2
}
